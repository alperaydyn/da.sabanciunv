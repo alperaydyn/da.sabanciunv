{
  "nbformat": 4,
  "nbformat_minor": 0,
  "metadata": {
    "colab": {
      "name": "Assignment2_Solution_ALPER AYDIN_00027137_colab",
      "version": "0.3.2",
      "provenance": [],
      "collapsed_sections": [],
      "include_colab_link": true
    },
    "kernelspec": {
      "name": "python3",
      "display_name": "Python 3"
    },
    "accelerator": "TPU"
  },
  "cells": [
    {
      "cell_type": "markdown",
      "metadata": {
        "id": "view-in-github",
        "colab_type": "text"
      },
      "source": [
        "<a href=\"https://colab.research.google.com/github/alperaydyn/da.sabanciunv/blob/master/Assignment2_Solution_ALPER_AYDIN_00027137_colab.ipynb\" target=\"_parent\"><img src=\"https://colab.research.google.com/assets/colab-badge.svg\" alt=\"Open In Colab\"/></a>"
      ]
    },
    {
      "metadata": {
        "id": "mECvMG59Yty9",
        "colab_type": "text"
      },
      "cell_type": "markdown",
      "source": [
        "CS404-201801\n",
        "\n",
        "ALPER AYDIN (00027137)\n",
        "\n",
        "# Assignment 2\n",
        "## Solving Akari using CSP\n"
      ]
    },
    {
      "metadata": {
        "id": "v5Ru21yWZjvR",
        "colab_type": "text"
      },
      "cell_type": "markdown",
      "source": [
        "### Problem Representation\n",
        "Akari Puzzle, also known as Light Up, is a puzzle game developed by Nikoli in 2001. The puzzle is a board consisting of white and black cells, with some black cells having a number represents the number of light bulbs.\n",
        "\n",
        "The game has the following rules;\n",
        "\n",
        "1. Place light bulbs (circles) according to the following rules.\n",
        "2. Light bulbs may be placed in any of the white squares, the number in the square shows how many light bulbs are next to it, vertically and horizontally.\n",
        "3. Each light bulb illuminates from bulb to black square or outer frame in its row and column.\n",
        "4. Every white square must be illuminated and a light bulb can not illuminate another light bulb.\n",
        "\n"
      ]
    },
    {
      "metadata": {
        "id": "nJo-MyEYdflY",
        "colab_type": "text"
      },
      "cell_type": "markdown",
      "source": [
        "Sample | Progressing | Solution | \n",
        "- | - | - | -\n",
        "![Sample](http://www.nikoli.co.jp/en/puzzles/image/akari01.gif) | ![Progressing](http://www.nikoli.co.jp/en/puzzles/image/akari02.gif) | ![Solution](http://www.nikoli.co.jp/en/puzzles/image/akari03.gif) | [ ![nikoli](http://www.nikoli.co.jp/images/nikoli_logo.png)](https://www.nikoli.co.jp/en/puzzles/akari.html) |\n"
      ]
    },
    {
      "metadata": {
        "id": "7Ow2R3mqZVLI",
        "colab_type": "text"
      },
      "cell_type": "markdown",
      "source": [
        "We will be using **[Google OR Tools](https://developers.google.com/optimization/)** for solving Akari Puzzle. OR-Tools is an open source software suite for optimization, tuned for tackling the world's toughest problems in vehicle routing, flows, integer and linear programming, and constraint programming. \n",
        "\n",
        "It is useful to take a look at pages [Installation](https://developers.google.com/optimization/install/python/) and [Getting Started](https://developers.google.com/optimization/introduction/python) before we get started.\n",
        "\n",
        "\n",
        "\n",
        "### Solution\n",
        "\n",
        "#### 1. Board Display\n",
        "We first define a function to display the board. We use IPython display and HTML classes and some css to decorate the results. Below are some examples of how the board is displayed.\n"
      ]
    },
    {
      "metadata": {
        "id": "lkOF9KRMYYY1",
        "colab_type": "code",
        "colab": {
          "base_uri": "https://localhost:8080/",
          "height": 274
        },
        "outputId": "132d423f-06b5-4c1c-8d2b-aa8ba2d8b357"
      },
      "cell_type": "code",
      "source": [
        "from IPython.core.display import display, HTML\n",
        "import pandas as pd\n",
        "import numpy as np\n",
        "import copy\n",
        "\n",
        "style = '<style> ' +\\\n",
        "       ' table {border-collapse:collapse;}' +\\\n",
        "       ' td, th{vertical-align:top important!; text-align:center !important; border:1px solid #ddd !important}' + \\\n",
        "       '.boardCell {text-align:center;width:25px;height:25px;font-size:8pt;vertical-align:middle;}' +\\\n",
        "       '.blackCell {background:#333; color:#eee;vertical-align:middle;}' +\\\n",
        "       '.whiteCell {background:#fff; color:#333;vertical-align:middle;}' +\\\n",
        "       '.bulbCell {background:#dd3; color:#dd3;vertical-align:middle;}' +\\\n",
        "       '.lumCell {background:#ffa; color:#ffa;vertical-align:middle;}' +\\\n",
        "       '</style>'\n",
        "display(HTML(style))\n",
        "def displayBoard(board, title):\n",
        "  hb = '<table >';\n",
        "  hb += '<th colspan=\"99\">'+title+'</td>'\n",
        "  for row in board:\n",
        "    hb += '<tr>'\n",
        "    for cell in row:\n",
        "      cellClass = 'blackCell' if cell in ['0','1','2','3','4','X'] else 'bulbCell' if cell=='O' else 'lumCell' if cell=='L' else 'whiteCell'\n",
        "      cellValue = ' ' if cell=='_' else cell\n",
        "      hb += '<td class=\"boardCell '+cellClass+'\">' + cellValue + '</td>'\n",
        "    hb += '</tr>'\n",
        "  hb += '</table>'\n",
        "  return hb\n",
        "  \n",
        "  \n",
        "board_2 = [['1','_','_','_','1','_'],['_','3','_','_','_','_',],['_','_','_','_','_','_',],['_','_','1','_','_','_',],['_','_','_','_','_','_',]]\n",
        "board_1 = [['_','_','_','_','_','_','X'],['_','_','4','_','_','_','_'],['0','_','_','_','1','X','_'],['_','_','_','1','_','_','_'],['_','X','1','_','_','_','X'],['_','_','_','_','X','_','_'],['1','_','_','_','_','_','_'],]\n",
        "board_0 = [['_','_','2','_','_','2','_','_'],['_','3','_','_','_','_','_','_'],['_','_','X','X','_','3','_','0'],['_','_','_','_','_','_','X','_'],['_','X','_','_','_','_','_','_'],['2','_','3','_','X','X','_','_'],['_','_','_','_','_','_','3','_'],['_','_','X','_','_','2','_','_'],]\n",
        "b0 = displayBoard(board_0,'Board 0')\n",
        "b1 = displayBoard(board_1,'Board 1')\n",
        "b2 = displayBoard(board_2,'Board 2')\n",
        "display(HTML('<table cellpadding=5 border=0><tr><td>'+b0+'</td><td>'+b1+'</td><td>'+b2+'</td></tr></table>'))\n",
        "  "
      ],
      "execution_count": 32,
      "outputs": [
        {
          "output_type": "display_data",
          "data": {
            "text/html": [
              "<style>  table {border-collapse:collapse;} td, th{vertical-align:top important!; text-align:center !important; border:1px solid #ddd !important}.boardCell {text-align:center;width:25px;height:25px;font-size:8pt;vertical-align:middle;}.blackCell {background:#333; color:#eee;vertical-align:middle;}.whiteCell {background:#fff; color:#333;vertical-align:middle;}.bulbCell {background:#dd3; color:#dd3;vertical-align:middle;}.lumCell {background:#ffa; color:#ffa;vertical-align:middle;}</style>"
            ],
            "text/plain": [
              "<IPython.core.display.HTML object>"
            ]
          },
          "metadata": {
            "tags": []
          }
        },
        {
          "output_type": "display_data",
          "data": {
            "text/html": [
              "<table cellpadding=5 border=0><tr><td><table ><th colspan=\"99\">Board 0</td><tr><td class=\"boardCell whiteCell\"> </td><td class=\"boardCell whiteCell\"> </td><td class=\"boardCell blackCell\">2</td><td class=\"boardCell whiteCell\"> </td><td class=\"boardCell whiteCell\"> </td><td class=\"boardCell blackCell\">2</td><td class=\"boardCell whiteCell\"> </td><td class=\"boardCell whiteCell\"> </td></tr><tr><td class=\"boardCell whiteCell\"> </td><td class=\"boardCell blackCell\">3</td><td class=\"boardCell whiteCell\"> </td><td class=\"boardCell whiteCell\"> </td><td class=\"boardCell whiteCell\"> </td><td class=\"boardCell whiteCell\"> </td><td class=\"boardCell whiteCell\"> </td><td class=\"boardCell whiteCell\"> </td></tr><tr><td class=\"boardCell whiteCell\"> </td><td class=\"boardCell whiteCell\"> </td><td class=\"boardCell blackCell\">X</td><td class=\"boardCell blackCell\">X</td><td class=\"boardCell whiteCell\"> </td><td class=\"boardCell blackCell\">3</td><td class=\"boardCell whiteCell\"> </td><td class=\"boardCell blackCell\">0</td></tr><tr><td class=\"boardCell whiteCell\"> </td><td class=\"boardCell whiteCell\"> </td><td class=\"boardCell whiteCell\"> </td><td class=\"boardCell whiteCell\"> </td><td class=\"boardCell whiteCell\"> </td><td class=\"boardCell whiteCell\"> </td><td class=\"boardCell blackCell\">X</td><td class=\"boardCell whiteCell\"> </td></tr><tr><td class=\"boardCell whiteCell\"> </td><td class=\"boardCell blackCell\">X</td><td class=\"boardCell whiteCell\"> </td><td class=\"boardCell whiteCell\"> </td><td class=\"boardCell whiteCell\"> </td><td class=\"boardCell whiteCell\"> </td><td class=\"boardCell whiteCell\"> </td><td class=\"boardCell whiteCell\"> </td></tr><tr><td class=\"boardCell blackCell\">2</td><td class=\"boardCell whiteCell\"> </td><td class=\"boardCell blackCell\">3</td><td class=\"boardCell whiteCell\"> </td><td class=\"boardCell blackCell\">X</td><td class=\"boardCell blackCell\">X</td><td class=\"boardCell whiteCell\"> </td><td class=\"boardCell whiteCell\"> </td></tr><tr><td class=\"boardCell whiteCell\"> </td><td class=\"boardCell whiteCell\"> </td><td class=\"boardCell whiteCell\"> </td><td class=\"boardCell whiteCell\"> </td><td class=\"boardCell whiteCell\"> </td><td class=\"boardCell whiteCell\"> </td><td class=\"boardCell blackCell\">3</td><td class=\"boardCell whiteCell\"> </td></tr><tr><td class=\"boardCell whiteCell\"> </td><td class=\"boardCell whiteCell\"> </td><td class=\"boardCell blackCell\">X</td><td class=\"boardCell whiteCell\"> </td><td class=\"boardCell whiteCell\"> </td><td class=\"boardCell blackCell\">2</td><td class=\"boardCell whiteCell\"> </td><td class=\"boardCell whiteCell\"> </td></tr></table></td><td><table ><th colspan=\"99\">Board 1</td><tr><td class=\"boardCell whiteCell\"> </td><td class=\"boardCell whiteCell\"> </td><td class=\"boardCell whiteCell\"> </td><td class=\"boardCell whiteCell\"> </td><td class=\"boardCell whiteCell\"> </td><td class=\"boardCell whiteCell\"> </td><td class=\"boardCell blackCell\">X</td></tr><tr><td class=\"boardCell whiteCell\"> </td><td class=\"boardCell whiteCell\"> </td><td class=\"boardCell blackCell\">4</td><td class=\"boardCell whiteCell\"> </td><td class=\"boardCell whiteCell\"> </td><td class=\"boardCell whiteCell\"> </td><td class=\"boardCell whiteCell\"> </td></tr><tr><td class=\"boardCell blackCell\">0</td><td class=\"boardCell whiteCell\"> </td><td class=\"boardCell whiteCell\"> </td><td class=\"boardCell whiteCell\"> </td><td class=\"boardCell blackCell\">1</td><td class=\"boardCell blackCell\">X</td><td class=\"boardCell whiteCell\"> </td></tr><tr><td class=\"boardCell whiteCell\"> </td><td class=\"boardCell whiteCell\"> </td><td class=\"boardCell whiteCell\"> </td><td class=\"boardCell blackCell\">1</td><td class=\"boardCell whiteCell\"> </td><td class=\"boardCell whiteCell\"> </td><td class=\"boardCell whiteCell\"> </td></tr><tr><td class=\"boardCell whiteCell\"> </td><td class=\"boardCell blackCell\">X</td><td class=\"boardCell blackCell\">1</td><td class=\"boardCell whiteCell\"> </td><td class=\"boardCell whiteCell\"> </td><td class=\"boardCell whiteCell\"> </td><td class=\"boardCell blackCell\">X</td></tr><tr><td class=\"boardCell whiteCell\"> </td><td class=\"boardCell whiteCell\"> </td><td class=\"boardCell whiteCell\"> </td><td class=\"boardCell whiteCell\"> </td><td class=\"boardCell blackCell\">X</td><td class=\"boardCell whiteCell\"> </td><td class=\"boardCell whiteCell\"> </td></tr><tr><td class=\"boardCell blackCell\">1</td><td class=\"boardCell whiteCell\"> </td><td class=\"boardCell whiteCell\"> </td><td class=\"boardCell whiteCell\"> </td><td class=\"boardCell whiteCell\"> </td><td class=\"boardCell whiteCell\"> </td><td class=\"boardCell whiteCell\"> </td></tr></table></td><td><table ><th colspan=\"99\">Board 2</td><tr><td class=\"boardCell blackCell\">1</td><td class=\"boardCell whiteCell\"> </td><td class=\"boardCell whiteCell\"> </td><td class=\"boardCell whiteCell\"> </td><td class=\"boardCell blackCell\">1</td><td class=\"boardCell whiteCell\"> </td></tr><tr><td class=\"boardCell whiteCell\"> </td><td class=\"boardCell blackCell\">3</td><td class=\"boardCell whiteCell\"> </td><td class=\"boardCell whiteCell\"> </td><td class=\"boardCell whiteCell\"> </td><td class=\"boardCell whiteCell\"> </td></tr><tr><td class=\"boardCell whiteCell\"> </td><td class=\"boardCell whiteCell\"> </td><td class=\"boardCell whiteCell\"> </td><td class=\"boardCell whiteCell\"> </td><td class=\"boardCell whiteCell\"> </td><td class=\"boardCell whiteCell\"> </td></tr><tr><td class=\"boardCell whiteCell\"> </td><td class=\"boardCell whiteCell\"> </td><td class=\"boardCell blackCell\">1</td><td class=\"boardCell whiteCell\"> </td><td class=\"boardCell whiteCell\"> </td><td class=\"boardCell whiteCell\"> </td></tr><tr><td class=\"boardCell whiteCell\"> </td><td class=\"boardCell whiteCell\"> </td><td class=\"boardCell whiteCell\"> </td><td class=\"boardCell whiteCell\"> </td><td class=\"boardCell whiteCell\"> </td><td class=\"boardCell whiteCell\"> </td></tr></table></td></tr></table>"
            ],
            "text/plain": [
              "<IPython.core.display.HTML object>"
            ]
          },
          "metadata": {
            "tags": []
          }
        }
      ]
    },
    {
      "metadata": {
        "id": "DtD96vxVz3MC",
        "colab_type": "text"
      },
      "cell_type": "markdown",
      "source": [
        "### 2. Board Validation\n",
        "\n",
        "Before we construct the Solver model, we first validate the input board. The board must contain one of the following values: [ X, 0, 1, 2, 3, 4, _ ]"
      ]
    },
    {
      "metadata": {
        "id": "TwOsj2bL1sps",
        "colab_type": "code",
        "colab": {}
      },
      "cell_type": "code",
      "source": [
        "def validateBoard(board):\n",
        "    invalidChars = [x for y in board for x in y if not x in ['X','0','1','2','3','4','_']]\n",
        "    return len(invalidChars)==0, invalidChars"
      ],
      "execution_count": 0,
      "outputs": []
    },
    {
      "metadata": {
        "id": "ywAV3VZ01wDO",
        "colab_type": "text"
      },
      "cell_type": "markdown",
      "source": [
        "### 3. Model Introduction\n",
        "Below is a simple representation of how to construct a CP Solver. \n",
        "1. **Define a class for printing the solution results.** *The solution printer is a callback defined in a Python class. You pass the callback to the solver, as shown in the next section, and the callback is executed each time a new solution is found.*\n",
        "[CP Solver](https://developers.google.com/optimization/cp/cp_solver#cp-sat_solution_printer)\n",
        "\n",
        "2. **Create the model*** from CpModel class.\n",
        "\n",
        "3. **Create variables.** For this example, we create integer variables which can take values between 0 and 5 with the arbitrary names 'varX' and 'varY'\n",
        "\n",
        "4. **Create constraints.** Here we create the constraint which our model shoud take care when searching a solution. We use the variables we defined in step 3 and pass to the model.Add() function as a condition parameter. We can add as many parameters as we require to the model. \n",
        "We can add conditions as simple comparisons or as function parameters or even as lambda functions. Model.Add() function only requires the parameter to be boolean condition.\n",
        "\n",
        "5. **Solve and display.** We use CpSolver() function as solver, create a pointer to the solution printer class and call **SearchForAllSolutions()** function with the parameters model and solution printer."
      ]
    },
    {
      "metadata": {
        "id": "bPCB4x-u2h47",
        "colab_type": "code",
        "colab": {
          "base_uri": "https://localhost:8080/",
          "height": 306
        },
        "outputId": "f7bcd72a-1ee9-445f-e8d6-e2fe53516c0c"
      },
      "cell_type": "code",
      "source": [
        " !pip install ortools\n",
        "from ortools.sat.python import cp_model\n",
        "\n",
        "# 1. class required for solution callback\n",
        "class SolutionPrinter(cp_model.CpSolverSolutionCallback):\n",
        "    def __init__(self, variables):\n",
        "        cp_model.CpSolverSolutionCallback.__init__(self)\n",
        "        self.__variables = variables\n",
        "        self.__solution_count = 0\n",
        "\n",
        "    def OnSolutionCallback(self):\n",
        "        self.__solution_count += 1\n",
        "        print('Solution ',self.__solution_count)\n",
        "        for v in self.__variables:\n",
        "            print(v, self.Value(v))\n",
        "\n",
        "# 2. create model\n",
        "model = cp_model.CpModel()\n",
        "\n",
        "# 3. create variables\n",
        "x = model.NewIntVar(0,5,'varX')\n",
        "y = model.NewIntVar(0,5,'varY')\n",
        "\n",
        "# 4. create constraints\n",
        "model.Add( x+y<7 )\n",
        "model.Add( x-y>3 )\n",
        "model.Add( x>2 )\n",
        "\n",
        "model.Add( sum([x,y])>2 )\n",
        "\n",
        "f = lambda x,y: x+y\n",
        "model.Add( f(x,y)>2 )\n",
        "\n",
        "# 5. solve and display solution\n",
        "solver = cp_model.CpSolver()\n",
        "solution_printer = SolutionPrinter([x,y])\n",
        "status = solver.SearchForAllSolutions(model, solution_printer)"
      ],
      "execution_count": 3,
      "outputs": [
        {
          "output_type": "stream",
          "text": [
            "Collecting ortools\n",
            "\u001b[?25l  Downloading https://files.pythonhosted.org/packages/31/ea/7e085dc9add0875e235ac13723d4105977d1d5efaef6423454ef72c67b29/ortools-6.9.5824-cp36-cp36m-manylinux1_x86_64.whl (23.7MB)\n",
            "\u001b[K    100% |████████████████████████████████| 23.7MB 702kB/s \n",
            "\u001b[?25hRequirement already satisfied: protobuf>=3.6.1 in /usr/local/lib/python3.6/dist-packages (from ortools) (3.6.1)\n",
            "Requirement already satisfied: six>=1.10 in /usr/local/lib/python3.6/dist-packages (from ortools) (1.11.0)\n",
            "Requirement already satisfied: setuptools in /usr/local/lib/python3.6/dist-packages (from protobuf>=3.6.1->ortools) (40.5.0)\n",
            "Installing collected packages: ortools\n",
            "Successfully installed ortools-6.9.5824\n",
            "Solution  1\n",
            "varX 4\n",
            "varY 0\n",
            "Solution  2\n",
            "varX 5\n",
            "varY 0\n",
            "Solution  3\n",
            "varX 5\n",
            "varY 1\n"
          ],
          "name": "stdout"
        }
      ]
    },
    {
      "metadata": {
        "id": "phjWfJpOBiRv",
        "colab_type": "text"
      },
      "cell_type": "markdown",
      "source": [
        "### 4. Model Preperation\n",
        "\n",
        "Since we got familiar with how the model works, we now will follow the same steps for our problem.\n",
        "\n",
        "#### 4.1 Solution Callback\n",
        "The structure is same as the previous step. Instead of directly printing the solution variables, we add a ***Value*** parameter to the **__variables** collection of the class and pass the variable values to this new parameter. We will then use the value of the variables when we display the solution. Another addition is the **disp** parameter. This is a function we pass to the SolutionPrinter function with the variables, before we call the solution. Here we define how to display the solution results.\n"
      ]
    },
    {
      "metadata": {
        "id": "Stjvl55FCKAQ",
        "colab_type": "code",
        "colab": {}
      },
      "cell_type": "code",
      "source": [
        "class SolutionPrinter(cp_model.CpSolverSolutionCallback):\n",
        "    def __init__(self, variables, disp):\n",
        "        cp_model.CpSolverSolutionCallback.__init__(self)\n",
        "        self.__variables = variables\n",
        "        self.__solution_count = 0\n",
        "        self.disp = disp\n",
        "\n",
        "    def OnSolutionCallback(self):\n",
        "        self.__solution_count += 1\n",
        "        for v in self.__variables:\n",
        "            v.Value = self.Value(v)\n",
        "        self.disp(self.__variables)"
      ],
      "execution_count": 0,
      "outputs": []
    },
    {
      "metadata": {
        "id": "JG_an5chD7XM",
        "colab_type": "text"
      },
      "cell_type": "markdown",
      "source": [
        "### 4.2 Create Model\n",
        "We will be creating the model in the RunModel() function that we create. "
      ]
    },
    {
      "metadata": {
        "id": "X5d0pxD4EHI-",
        "colab_type": "code",
        "colab": {}
      },
      "cell_type": "code",
      "source": [
        "model = cp_model.CpModel()"
      ],
      "execution_count": 0,
      "outputs": []
    },
    {
      "metadata": {
        "id": "TjVLf9O-Egfq",
        "colab_type": "text"
      },
      "cell_type": "markdown",
      "source": [
        "### 4.3 Create Variables\n",
        "In our model, variables are the **White Cells** on the board. And this cells can take values 1 (with bulb) and 0 (no bulb). So the variables will be interger values between 0 and 1. So we create NewIntVar for each white cell ('_') on the board. For doing this, we create a function that retrieves the white cells from the board.\n",
        "\n",
        "We will be creating the variables in the RunModel() function that we create. "
      ]
    },
    {
      "metadata": {
        "id": "9Nk-SuDvEnVw",
        "colab_type": "code",
        "colab": {}
      },
      "cell_type": "code",
      "source": [
        "def findWhiteCells(board):\n",
        "    return [ [i,j] for i,y in enumerate(board) for j,x in enumerate(y) if x=='_']\n",
        "\n",
        "\n",
        "#var = [model.NewIntVar(0, 1, 'yx%s%s'%(v[0],v[1])) for v in whiteCells]"
      ],
      "execution_count": 0,
      "outputs": []
    },
    {
      "metadata": {
        "id": "SmtVD1SEFwqs",
        "colab_type": "text"
      },
      "cell_type": "markdown",
      "source": [
        "### 4.4 Creating Constraints\n",
        "This part is the most important part of the model. We have rules defined for the game and we have to formulize them as boolean conditions. So, let's do it one by one for each rule of the game.\n",
        "\n",
        "#### 4.4.1 Number of bulb cells around a numbered cell is equal to the value of the numbered cell\n",
        "First, lets visualize the phrase. "
      ]
    },
    {
      "metadata": {
        "id": "zfH5gZ5yGxGX",
        "colab_type": "code",
        "colab": {
          "base_uri": "https://localhost:8080/",
          "height": 122
        },
        "outputId": "bc110353-e24a-4a09-c2e0-9f6901e19d81"
      },
      "cell_type": "code",
      "source": [
        "display(HTML(style))\n",
        "display(HTML(displayBoard([['_','1*','_'],['2*','3','3*'],['_','4*','_']],'Test')))"
      ],
      "execution_count": 7,
      "outputs": [
        {
          "output_type": "display_data",
          "data": {
            "text/html": [
              "<style>  table {border-collapse:collapse;} td, th{vertical-align:top important!; text-align:center !important; border:1px solid #ddd !important}.boardCell {text-align:center;width:25px;height:25px;font-size:8pt;vertical-align:middle;}.blackCell {background:#888; color:#eee;vertical-align:middle;}.whiteCell {background:#fff; color:#333;vertical-align:middle;}.bulbCell {background:#dd3; color:#dd3;vertical-align:middle;}.lumCell {background:#ffa; color:#ffa;vertical-align:middle;}</style>"
            ],
            "text/plain": [
              "<IPython.core.display.HTML object>"
            ]
          },
          "metadata": {
            "tags": []
          }
        },
        {
          "output_type": "display_data",
          "data": {
            "text/html": [
              "<table ><th colspan=\"99\">Test</td><tr><td class=\"boardCell whiteCell\"> </td><td class=\"boardCell whiteCell\">1*</td><td class=\"boardCell whiteCell\"> </td></tr><tr><td class=\"boardCell whiteCell\">2*</td><td class=\"boardCell blackCell\">3</td><td class=\"boardCell whiteCell\">3*</td></tr><tr><td class=\"boardCell whiteCell\"> </td><td class=\"boardCell whiteCell\">4*</td><td class=\"boardCell whiteCell\"> </td></tr></table>"
            ],
            "text/plain": [
              "<IPython.core.display.HTML object>"
            ]
          },
          "metadata": {
            "tags": []
          }
        }
      ]
    },
    {
      "metadata": {
        "id": "9_3Qv1ejH_QV",
        "colab_type": "text"
      },
      "cell_type": "markdown",
      "source": [
        "Here, the rule says that, there must be exactly 3 light bulbs around the gray cell. So cells we need to identify the coordinates of theese cells to be able to define them as variables. But before this, we need to find which cells contain number. So we create **findNumberCells()** and **findNeighbours()** functions for this purpose.\n",
        "\n",
        "**findNumberCells** function simply loops through each cell of the board and filters the cell with a list 0-4 using a list comprehension.\n",
        "\n",
        "**findNeighbors** function uses a matrix to calculate the coordinate of a given cell in all four directions up,down,left and right, and filter the calculations if they are inside the boundaries of the board. And finally, returns the coordinates or the indices of the found cells in the whiteCells list according to the **returnIndex** parameter.\n",
        "\n"
      ]
    },
    {
      "metadata": {
        "id": "9tv-2MSIFtO4",
        "colab_type": "code",
        "colab": {}
      },
      "cell_type": "code",
      "source": [
        "def findNumberCells(board):\n",
        "    nc = [ [i,j] for i,y in enumerate(board) for j,x in enumerate(y) if x in ['0','1','2','3','4']]\n",
        "    return nc \n",
        "\n",
        "def findNeighbours(s, board, returnIndex):\n",
        "    d = [[-1,0],[1,0],[0,-1],[0,1]]\n",
        "    neigbours = [ list(sp) for sp in np.add(s,d) if 0<=sp[0]<len(board) and 0<=sp[1]<len(board[0])]\n",
        "    return [whiteCells.index(n) for n in neigbours if n in whiteCells] if returnIndex else neigbours"
      ],
      "execution_count": 0,
      "outputs": []
    },
    {
      "metadata": {
        "id": "5p4LT5lCKhaV",
        "colab_type": "text"
      },
      "cell_type": "markdown",
      "source": [
        "We will then pass these variables as conditions in the **CreateConditions()** function.\n",
        "\n",
        "#### 4.4.2. each white cell must be illuminated\n",
        "This condition is a little bit tricky. We must first define what **illuminated** means. Let's again explain it by visualizing. Below is a sample board. There are bulbs at cells [y:0, x:0] and [y:2, x:3] with dark yellow. These bulbs illuminates the cells in vertical and horizontal directions until a black cell or a border is faced. So, **illuminated** means, for any cell, there should be at least 1 bulb in vertical or horizontal direction, but not exeed 2. Because, rule #4 says that a bulb cannot illuminate another light bulb. So there must be at much two bulbs in the union of two directions. \n",
        "\n",
        "If we want to formulate the condition for cell [0,0]:\n",
        "\n",
        "**vertical: v=** [0,1],[0,2],[0,3]\n",
        "\n",
        "**horizontal: h=** [1,0],[2,0]\n",
        "\n",
        "v + h >= 1 and v + h <=2"
      ]
    },
    {
      "metadata": {
        "id": "ysdMt2ZxLQxt",
        "colab_type": "code",
        "colab": {
          "base_uri": "https://localhost:8080/",
          "height": 122
        },
        "outputId": "8eb2fe4d-8b68-445d-daec-b65554b97f15"
      },
      "cell_type": "code",
      "source": [
        "display(HTML(style))\n",
        "display(HTML(displayBoard([['O','L','L','X','_'],['L','_','X','L','X'],['L','X','L','O','L']],'illumination')))"
      ],
      "execution_count": 9,
      "outputs": [
        {
          "output_type": "display_data",
          "data": {
            "text/html": [
              "<style>  table {border-collapse:collapse;} td, th{vertical-align:top important!; text-align:center !important; border:1px solid #ddd !important}.boardCell {text-align:center;width:25px;height:25px;font-size:8pt;vertical-align:middle;}.blackCell {background:#888; color:#eee;vertical-align:middle;}.whiteCell {background:#fff; color:#333;vertical-align:middle;}.bulbCell {background:#dd3; color:#dd3;vertical-align:middle;}.lumCell {background:#ffa; color:#ffa;vertical-align:middle;}</style>"
            ],
            "text/plain": [
              "<IPython.core.display.HTML object>"
            ]
          },
          "metadata": {
            "tags": []
          }
        },
        {
          "output_type": "display_data",
          "data": {
            "text/html": [
              "<table ><th colspan=\"99\">illumination</td><tr><td class=\"boardCell bulbCell\">O</td><td class=\"boardCell lumCell\">L</td><td class=\"boardCell lumCell\">L</td><td class=\"boardCell blackCell\">X</td><td class=\"boardCell whiteCell\"> </td></tr><tr><td class=\"boardCell lumCell\">L</td><td class=\"boardCell whiteCell\"> </td><td class=\"boardCell blackCell\">X</td><td class=\"boardCell lumCell\">L</td><td class=\"boardCell blackCell\">X</td></tr><tr><td class=\"boardCell lumCell\">L</td><td class=\"boardCell blackCell\">X</td><td class=\"boardCell lumCell\">L</td><td class=\"boardCell bulbCell\">O</td><td class=\"boardCell lumCell\">L</td></tr></table>"
            ],
            "text/plain": [
              "<IPython.core.display.HTML object>"
            ]
          },
          "metadata": {
            "tags": []
          }
        }
      ]
    },
    {
      "metadata": {
        "id": "__wtj_yyQsJ0",
        "colab_type": "text"
      },
      "cell_type": "markdown",
      "source": [
        "So, we need to make a list for every white cell containing all the horizontal and vertical cells. To do this we define two functions: **findVerticalCells()** and **findHorizontalCells()**. These functions loops through each cell starting from the selected cell until a border or a balck cell and returns the coordinates or the indices of the accumulated cells according to the returnIndex parameter."
      ]
    },
    {
      "metadata": {
        "id": "VE2araPSK6np",
        "colab_type": "code",
        "colab": {}
      },
      "cell_type": "code",
      "source": [
        "def findVerticalCells(s, board, returnIndex):\n",
        "    vertical = []\n",
        "    x = s[1]\n",
        "    for y in range(s[0], -1, -1):\n",
        "        if board[y][x]!='_': break\n",
        "        if [y,x] not in vertical: vertical.append([y,x])\n",
        "    for y in range(s[0], len(board)):\n",
        "        if board[y][x]!='_': break\n",
        "        if [y,x] not in vertical: vertical.append([y,x])\n",
        "    return [whiteCells.index(n) for n in vertical] if returnIndex else vertical\n",
        "\n",
        "def findHorizontalCells(s, board, returnIndex):\n",
        "    horizontal = []\n",
        "    y = s[0]\n",
        "    for x in range(s[1], -1, -1):\n",
        "        if board[y][x]!='_': break\n",
        "        if [y,x] not in horizontal: horizontal.append([y,x])\n",
        "    for x in range(s[1], len(board[0])):\n",
        "        if board[y][x]!='_': break\n",
        "        if [y,x] not in horizontal: horizontal.append([y,x])\n",
        "    return [whiteCells.index(n) for n in horizontal] if returnIndex else horizontal"
      ],
      "execution_count": 0,
      "outputs": []
    },
    {
      "metadata": {
        "id": "wEFaJRa6PeiN",
        "colab_type": "text"
      },
      "cell_type": "markdown",
      "source": [
        "#### 4.4.3 No light bulbs should illuminate each other\n",
        "In the previous item, we considered the case of light bulbs not exceeding two for the union of two directions. Bu this is not enough to make sure that there are no light bulbs illuminating each other, we add conditions the check this."
      ]
    },
    {
      "metadata": {
        "id": "sWVY3SHgR_l9",
        "colab_type": "text"
      },
      "cell_type": "markdown",
      "source": [
        "\n",
        "\n",
        "There is one addition helper function that is needed for passing the parameters to the model. As we had seen in the model introduction section, we add constaints as conditions represented by variables.\n",
        "\n",
        "`model.Add( x + y < 5)`\n",
        "\n",
        "But when we have list of variables, it is not possible to pass them one by one. So, to achieve this problem, we define a function **sumVars()** accepting a list that points to the indices of the actual variables in the **var** list and return a simple calculation of the given variables.\n",
        "\n"
      ]
    },
    {
      "metadata": {
        "id": "KeK_QTlmTm98",
        "colab_type": "code",
        "colab": {}
      },
      "cell_type": "code",
      "source": [
        "def sumVars(varList): \n",
        "    return sum([var[i] for i in varList])"
      ],
      "execution_count": 0,
      "outputs": []
    },
    {
      "metadata": {
        "id": "czUkzy-VTn9y",
        "colab_type": "text"
      },
      "cell_type": "markdown",
      "source": [
        "By this function we can represent the sum of an unknown number of variables and convert it to a condition without passing all the variables one by one."
      ]
    },
    {
      "metadata": {
        "id": "FtZm5EFQUfzz",
        "colab_type": "text"
      },
      "cell_type": "markdown",
      "source": [
        "### 4.4.5 Creating the Constraints\n",
        "Here, we are adding the constraints to the model with the help of our helper functions."
      ]
    },
    {
      "metadata": {
        "id": "4VOXiJcIRseS",
        "colab_type": "code",
        "colab": {}
      },
      "cell_type": "code",
      "source": [
        "def createConstraints(model, board):\n",
        "    constraints = []\n",
        "    #1 number of bulb cells around a numbered cell is equal to the value of the numbered cell\n",
        "    for numCell in findNumberCells(board):\n",
        "        numCellValue = int(board[numCell[0]][numCell[1]])\n",
        "        neighbours = findNeighbours(numCell, board, True)\n",
        "        constraints.append( [numCell,'sum=',numCellValue ,neighbours] )\n",
        "        model.Add( sumVars(neighbours)== numCellValue )\n",
        "    \n",
        "    #3.1 each white cell must be illuminated\n",
        "    for whiteCell in findWhiteCells(board):\n",
        "        h,v = findVerticalCells(whiteCell,board,True) , findHorizontalCells(whiteCell,board,True)\n",
        "        constraints.append( [whiteCell,'sum>=1, sum<=2' , h+v] )\n",
        "        model.Add( sumVars(h+v)>=1) # at least one bulb in h+v\n",
        "        model.Add( sumVars(h+v)<=2) # at much two bulbs in h+v\n",
        "        \n",
        "        #3.2 no light bulbs should illuminate each other\n",
        "        model.Add( sumVars(h)<=1) # horizontal neighbors can have at much one bulb \n",
        "        model.Add( sumVars(v)<=1) # vertical neighbors can have at much one bulbs "
      ],
      "execution_count": 0,
      "outputs": []
    },
    {
      "metadata": {
        "id": "-jlWN6gbVWq1",
        "colab_type": "text"
      },
      "cell_type": "markdown",
      "source": [
        "### 4.5 Running the Model\n",
        "And finally, we create a function that combines the explained tasks and run the model."
      ]
    },
    {
      "metadata": {
        "id": "Okww0fe4Vew2",
        "colab_type": "code",
        "colab": {}
      },
      "cell_type": "code",
      "source": [
        "def runModel(board):\n",
        "    global var\n",
        "    global whiteCells\n",
        "\n",
        "    boardIsValid, invalidValues = validateBoard(board)\n",
        "    if not boardIsValid:\n",
        "        print ('Board is not valid:',invalidValues)\n",
        "        return\n",
        "    \n",
        "    whiteCells = findWhiteCells(board)\n",
        "    \n",
        "    # model    \n",
        "    model = cp_model.CpModel()\n",
        "    solver = cp_model.CpSolver()\n",
        "    \n",
        "    #variables\n",
        "    var = [model.NewIntVar(0, 1, 'yx%s%s'%(v[0],v[1])) for v in whiteCells]\n",
        "    \n",
        "    #constraints\n",
        "    createConstraints(model, board)\n",
        "    \n",
        "    #display\n",
        "    solutions = []\n",
        "    disp = lambda values: solutions.append([v.Value for v in values])\n",
        "    \n",
        "    #solve\n",
        "    solution_printer = SolutionPrinter(var,disp)\n",
        "    status = solver.SearchForAllSolutions(model, solution_printer)\n",
        "    \n",
        "    #results\n",
        "    print('Status:', [status])\n",
        "    \n",
        "    display(HTML(style))\n",
        "    hsol = '<table><tr>'\n",
        "    hsol += '<td>' + displayBoard(board,'Problem')\n",
        "    sId = 0\n",
        "    for solution in solutions:\n",
        "        sId+=1\n",
        "        hsol += '<td>'\n",
        "        boards = copy.deepcopy(board)\n",
        "        for i,v in enumerate(solution):\n",
        "            y,x = whiteCells[i]\n",
        "            if v==1 : boards[y][x] = 'O' \n",
        "        hsol += displayBoard(boards, 'Solution #'+str(sId))\n",
        "    hsol += '</tr></table>'\n",
        "    display(HTML(hsol))"
      ],
      "execution_count": 0,
      "outputs": []
    },
    {
      "metadata": {
        "id": "JPf9chpaWRLn",
        "colab_type": "code",
        "colab": {
          "base_uri": "https://localhost:8080/",
          "height": 255
        },
        "outputId": "f2c666e3-9b84-4da3-b258-668c5eada909"
      },
      "cell_type": "code",
      "source": [
        "# puzzle source : https://www.puzzle-light-up.com/\n",
        "\n",
        "#EASY BOARDS\n",
        "board_0 = [['1','_','_','_','1','_'],['_','3','_','_','_','_',],['_','_','_','_','_','_',],['_','_','1','_','_','_',],['_','_','_','_','_','_',]]\n",
        "board_1 = [['_','_','2','_','_','2','_','_'],['_','3','_','_','_','_','_','_'],['_','_','X','X','_','3','_','0'],['_','_','_','_','_','_','X','_'],['_','X','_','_','_','_','_','_'],['2','_','3','_','X','X','_','_'],['_','_','_','_','_','_','3','_'],['_','_','X','_','_','2','_','_'],]\n",
        "board_2 = [['_','_','_','_','_','_','X'],['_','_','4','_','_','_','_'],['0','_','_','_','1','X','_'],['_','_','_','1','_','_','_'],['_','X','1','_','_','_','X'],['_','_','_','_','X','_','_'],['1','_','_','_','_','_','_'],]\n",
        "board_3 = [['_','_','_','_','_','_','_'],['_','1','2','_','_','X','_'],['_','_','_','_','_','1','_'],['_','_','_','0','_','_','_'],['_','X','_','_','_','_','_'],['_','0','_','_','X','3','_'],['_','_','_','_','_','_','_'],]\n",
        "board_4 = [['_','_','X','X','_','_','_'],['_','_','_','_','_','_','_'],['_','_','_','_','_','_','1'],['0','_','_','0','_','_','X'],['1','_','_','_','_','_','_'],['_','_','_','_','_','_','_'],['_','_','_','X','2','_','_'],]\n",
        "board_5 = [['_','_','3','_','_','X','_'],['0','_','_','_','_','_','_'],['_','_','_','X','_','_','X'],['_','_','1','X','2','_','_'],['X','_','_','1','_','_','_'],['_','_','_','_','_','_','X'],['_','X','_','_','2','_','_'],]\n",
        "board_6 = [['_','_','X','_','0','_','_'],['_','_','_','_','_','_','_'],['X','_','_','_','_','_','0'],['_','_','_','1','_','_','_'],['X','_','_','_','_','_','X'],['_','_','_','_','_','_','_'],['_','_','2','_','0','_','_'],]\n",
        "\n",
        "runModel(board_6)\n"
      ],
      "execution_count": 28,
      "outputs": [
        {
          "output_type": "stream",
          "text": [
            "Status: [2]\n"
          ],
          "name": "stdout"
        },
        {
          "output_type": "display_data",
          "data": {
            "text/html": [
              "<style>  table {border-collapse:collapse;} td, th{vertical-align:top important!; text-align:center !important; border:1px solid #ddd !important}.boardCell {text-align:center;width:25px;height:25px;font-size:8pt;vertical-align:middle;}.blackCell {background:#888; color:#eee;vertical-align:middle;}.whiteCell {background:#fff; color:#333;vertical-align:middle;}.bulbCell {background:#dd3; color:#dd3;vertical-align:middle;}.lumCell {background:#ffa; color:#ffa;vertical-align:middle;}</style>"
            ],
            "text/plain": [
              "<IPython.core.display.HTML object>"
            ]
          },
          "metadata": {
            "tags": []
          }
        },
        {
          "output_type": "display_data",
          "data": {
            "text/html": [
              "<table><tr><td><table ><th colspan=\"99\">Problem</td><tr><td class=\"boardCell whiteCell\"> </td><td class=\"boardCell whiteCell\"> </td><td class=\"boardCell blackCell\">X</td><td class=\"boardCell whiteCell\"> </td><td class=\"boardCell blackCell\">0</td><td class=\"boardCell whiteCell\"> </td><td class=\"boardCell whiteCell\"> </td></tr><tr><td class=\"boardCell whiteCell\"> </td><td class=\"boardCell whiteCell\"> </td><td class=\"boardCell whiteCell\"> </td><td class=\"boardCell whiteCell\"> </td><td class=\"boardCell whiteCell\"> </td><td class=\"boardCell whiteCell\"> </td><td class=\"boardCell whiteCell\"> </td></tr><tr><td class=\"boardCell blackCell\">X</td><td class=\"boardCell whiteCell\"> </td><td class=\"boardCell whiteCell\"> </td><td class=\"boardCell whiteCell\"> </td><td class=\"boardCell whiteCell\"> </td><td class=\"boardCell whiteCell\"> </td><td class=\"boardCell blackCell\">0</td></tr><tr><td class=\"boardCell whiteCell\"> </td><td class=\"boardCell whiteCell\"> </td><td class=\"boardCell whiteCell\"> </td><td class=\"boardCell blackCell\">1</td><td class=\"boardCell whiteCell\"> </td><td class=\"boardCell whiteCell\"> </td><td class=\"boardCell whiteCell\"> </td></tr><tr><td class=\"boardCell blackCell\">X</td><td class=\"boardCell whiteCell\"> </td><td class=\"boardCell whiteCell\"> </td><td class=\"boardCell whiteCell\"> </td><td class=\"boardCell whiteCell\"> </td><td class=\"boardCell whiteCell\"> </td><td class=\"boardCell blackCell\">X</td></tr><tr><td class=\"boardCell whiteCell\"> </td><td class=\"boardCell whiteCell\"> </td><td class=\"boardCell whiteCell\"> </td><td class=\"boardCell whiteCell\"> </td><td class=\"boardCell whiteCell\"> </td><td class=\"boardCell whiteCell\"> </td><td class=\"boardCell whiteCell\"> </td></tr><tr><td class=\"boardCell whiteCell\"> </td><td class=\"boardCell whiteCell\"> </td><td class=\"boardCell blackCell\">2</td><td class=\"boardCell whiteCell\"> </td><td class=\"boardCell blackCell\">0</td><td class=\"boardCell whiteCell\"> </td><td class=\"boardCell whiteCell\"> </td></tr></table><td><table ><th colspan=\"99\">Solution #1</td><tr><td class=\"boardCell bulbCell\">O</td><td class=\"boardCell whiteCell\"> </td><td class=\"boardCell blackCell\">X</td><td class=\"boardCell whiteCell\"> </td><td class=\"boardCell blackCell\">0</td><td class=\"boardCell whiteCell\"> </td><td class=\"boardCell bulbCell\">O</td></tr><tr><td class=\"boardCell whiteCell\"> </td><td class=\"boardCell whiteCell\"> </td><td class=\"boardCell whiteCell\"> </td><td class=\"boardCell bulbCell\">O</td><td class=\"boardCell whiteCell\"> </td><td class=\"boardCell whiteCell\"> </td><td class=\"boardCell whiteCell\"> </td></tr><tr><td class=\"boardCell blackCell\">X</td><td class=\"boardCell whiteCell\"> </td><td class=\"boardCell whiteCell\"> </td><td class=\"boardCell whiteCell\"> </td><td class=\"boardCell bulbCell\">O</td><td class=\"boardCell whiteCell\"> </td><td class=\"boardCell blackCell\">0</td></tr><tr><td class=\"boardCell bulbCell\">O</td><td class=\"boardCell whiteCell\"> </td><td class=\"boardCell whiteCell\"> </td><td class=\"boardCell blackCell\">1</td><td class=\"boardCell whiteCell\"> </td><td class=\"boardCell bulbCell\">O</td><td class=\"boardCell whiteCell\"> </td></tr><tr><td class=\"boardCell blackCell\">X</td><td class=\"boardCell whiteCell\"> </td><td class=\"boardCell whiteCell\"> </td><td class=\"boardCell bulbCell\">O</td><td class=\"boardCell whiteCell\"> </td><td class=\"boardCell whiteCell\"> </td><td class=\"boardCell blackCell\">X</td></tr><tr><td class=\"boardCell whiteCell\"> </td><td class=\"boardCell whiteCell\"> </td><td class=\"boardCell bulbCell\">O</td><td class=\"boardCell whiteCell\"> </td><td class=\"boardCell whiteCell\"> </td><td class=\"boardCell whiteCell\"> </td><td class=\"boardCell whiteCell\"> </td></tr><tr><td class=\"boardCell whiteCell\"> </td><td class=\"boardCell bulbCell\">O</td><td class=\"boardCell blackCell\">2</td><td class=\"boardCell whiteCell\"> </td><td class=\"boardCell blackCell\">0</td><td class=\"boardCell whiteCell\"> </td><td class=\"boardCell bulbCell\">O</td></tr></table></tr></table>"
            ],
            "text/plain": [
              "<IPython.core.display.HTML object>"
            ]
          },
          "metadata": {
            "tags": []
          }
        }
      ]
    },
    {
      "metadata": {
        "id": "MncbjIGOHtTf",
        "colab_type": "code",
        "colab": {
          "base_uri": "https://localhost:8080/",
          "height": 339
        },
        "outputId": "f2dcc938-6d61-47e4-b35f-17c6df43df15"
      },
      "cell_type": "code",
      "source": [
        "# NORMAL BOARDS\n",
        "board_9 = [['_','_','_','_','_','_','0','_','_','_'],['_','0','_','X','_','_','_','_','1','_'],['_','_','_','_','0','_','1','_','_','_'],['1','_','3','_','_','_','_','_','0','_'],['_','_','_','_','_','_','_','1','_','_'],['_','_','X','_','_','_','_','_','_','_'],['_','1','_','_','_','_','_','X','_','X'],['_','_','_','2','_','1','_','_','_','_'],['_','1','_','_','_','_','X','_','3','_'],['_','_','_','0','_','_','_','_','_','_'],]\n",
        "board_10= [['_','3','_','X','_','_','_','_','_','_'],['_','_','X','_','_','_','_','3','_','X'],['_','2','_','1','_','_','_','_','3','_'],['_','_','_','_','_','_','_','2','_','2'],['_','_','_','_','_','_','_','_','_','_'],['_','_','_','_','_','_','_','_','_','_'],['2','_','X','_','_','_','_','_','_','_'],['_','3','_','_','_','_','X','_','2','_'],['X','_','X','_','_','_','_','3','_','_'],['_','_','_','_','_','_','3','_','X','_'],]\n",
        "runModel(board_10)"
      ],
      "execution_count": 30,
      "outputs": [
        {
          "output_type": "stream",
          "text": [
            "Status: [2]\n"
          ],
          "name": "stdout"
        },
        {
          "output_type": "display_data",
          "data": {
            "text/html": [
              "<style>  table {border-collapse:collapse;} td, th{vertical-align:top important!; text-align:center !important; border:1px solid #ddd !important}.boardCell {text-align:center;width:25px;height:25px;font-size:8pt;vertical-align:middle;}.blackCell {background:#888; color:#eee;vertical-align:middle;}.whiteCell {background:#fff; color:#333;vertical-align:middle;}.bulbCell {background:#dd3; color:#dd3;vertical-align:middle;}.lumCell {background:#ffa; color:#ffa;vertical-align:middle;}</style>"
            ],
            "text/plain": [
              "<IPython.core.display.HTML object>"
            ]
          },
          "metadata": {
            "tags": []
          }
        },
        {
          "output_type": "display_data",
          "data": {
            "text/html": [
              "<table><tr><td><table ><th colspan=\"99\">Problem</td><tr><td class=\"boardCell whiteCell\"> </td><td class=\"boardCell blackCell\">3</td><td class=\"boardCell whiteCell\"> </td><td class=\"boardCell blackCell\">X</td><td class=\"boardCell whiteCell\"> </td><td class=\"boardCell whiteCell\"> </td><td class=\"boardCell whiteCell\"> </td><td class=\"boardCell whiteCell\"> </td><td class=\"boardCell whiteCell\"> </td><td class=\"boardCell whiteCell\"> </td></tr><tr><td class=\"boardCell whiteCell\"> </td><td class=\"boardCell whiteCell\"> </td><td class=\"boardCell blackCell\">X</td><td class=\"boardCell whiteCell\"> </td><td class=\"boardCell whiteCell\"> </td><td class=\"boardCell whiteCell\"> </td><td class=\"boardCell whiteCell\"> </td><td class=\"boardCell blackCell\">3</td><td class=\"boardCell whiteCell\"> </td><td class=\"boardCell blackCell\">X</td></tr><tr><td class=\"boardCell whiteCell\"> </td><td class=\"boardCell blackCell\">2</td><td class=\"boardCell whiteCell\"> </td><td class=\"boardCell blackCell\">1</td><td class=\"boardCell whiteCell\"> </td><td class=\"boardCell whiteCell\"> </td><td class=\"boardCell whiteCell\"> </td><td class=\"boardCell whiteCell\"> </td><td class=\"boardCell blackCell\">3</td><td class=\"boardCell whiteCell\"> </td></tr><tr><td class=\"boardCell whiteCell\"> </td><td class=\"boardCell whiteCell\"> </td><td class=\"boardCell whiteCell\"> </td><td class=\"boardCell whiteCell\"> </td><td class=\"boardCell whiteCell\"> </td><td class=\"boardCell whiteCell\"> </td><td class=\"boardCell whiteCell\"> </td><td class=\"boardCell blackCell\">2</td><td class=\"boardCell whiteCell\"> </td><td class=\"boardCell blackCell\">2</td></tr><tr><td class=\"boardCell whiteCell\"> </td><td class=\"boardCell whiteCell\"> </td><td class=\"boardCell whiteCell\"> </td><td class=\"boardCell whiteCell\"> </td><td class=\"boardCell whiteCell\"> </td><td class=\"boardCell whiteCell\"> </td><td class=\"boardCell whiteCell\"> </td><td class=\"boardCell whiteCell\"> </td><td class=\"boardCell whiteCell\"> </td><td class=\"boardCell whiteCell\"> </td></tr><tr><td class=\"boardCell whiteCell\"> </td><td class=\"boardCell whiteCell\"> </td><td class=\"boardCell whiteCell\"> </td><td class=\"boardCell whiteCell\"> </td><td class=\"boardCell whiteCell\"> </td><td class=\"boardCell whiteCell\"> </td><td class=\"boardCell whiteCell\"> </td><td class=\"boardCell whiteCell\"> </td><td class=\"boardCell whiteCell\"> </td><td class=\"boardCell whiteCell\"> </td></tr><tr><td class=\"boardCell blackCell\">2</td><td class=\"boardCell whiteCell\"> </td><td class=\"boardCell blackCell\">X</td><td class=\"boardCell whiteCell\"> </td><td class=\"boardCell whiteCell\"> </td><td class=\"boardCell whiteCell\"> </td><td class=\"boardCell whiteCell\"> </td><td class=\"boardCell whiteCell\"> </td><td class=\"boardCell whiteCell\"> </td><td class=\"boardCell whiteCell\"> </td></tr><tr><td class=\"boardCell whiteCell\"> </td><td class=\"boardCell blackCell\">3</td><td class=\"boardCell whiteCell\"> </td><td class=\"boardCell whiteCell\"> </td><td class=\"boardCell whiteCell\"> </td><td class=\"boardCell whiteCell\"> </td><td class=\"boardCell blackCell\">X</td><td class=\"boardCell whiteCell\"> </td><td class=\"boardCell blackCell\">2</td><td class=\"boardCell whiteCell\"> </td></tr><tr><td class=\"boardCell blackCell\">X</td><td class=\"boardCell whiteCell\"> </td><td class=\"boardCell blackCell\">X</td><td class=\"boardCell whiteCell\"> </td><td class=\"boardCell whiteCell\"> </td><td class=\"boardCell whiteCell\"> </td><td class=\"boardCell whiteCell\"> </td><td class=\"boardCell blackCell\">3</td><td class=\"boardCell whiteCell\"> </td><td class=\"boardCell whiteCell\"> </td></tr><tr><td class=\"boardCell whiteCell\"> </td><td class=\"boardCell whiteCell\"> </td><td class=\"boardCell whiteCell\"> </td><td class=\"boardCell whiteCell\"> </td><td class=\"boardCell whiteCell\"> </td><td class=\"boardCell whiteCell\"> </td><td class=\"boardCell blackCell\">3</td><td class=\"boardCell whiteCell\"> </td><td class=\"boardCell blackCell\">X</td><td class=\"boardCell whiteCell\"> </td></tr></table><td><table ><th colspan=\"99\">Solution #1</td><tr><td class=\"boardCell bulbCell\">O</td><td class=\"boardCell blackCell\">3</td><td class=\"boardCell bulbCell\">O</td><td class=\"boardCell blackCell\">X</td><td class=\"boardCell whiteCell\"> </td><td class=\"boardCell whiteCell\"> </td><td class=\"boardCell whiteCell\"> </td><td class=\"boardCell bulbCell\">O</td><td class=\"boardCell whiteCell\"> </td><td class=\"boardCell whiteCell\"> </td></tr><tr><td class=\"boardCell whiteCell\"> </td><td class=\"boardCell bulbCell\">O</td><td class=\"boardCell blackCell\">X</td><td class=\"boardCell whiteCell\"> </td><td class=\"boardCell bulbCell\">O</td><td class=\"boardCell whiteCell\"> </td><td class=\"boardCell whiteCell\"> </td><td class=\"boardCell blackCell\">3</td><td class=\"boardCell bulbCell\">O</td><td class=\"boardCell blackCell\">X</td></tr><tr><td class=\"boardCell whiteCell\"> </td><td class=\"boardCell blackCell\">2</td><td class=\"boardCell bulbCell\">O</td><td class=\"boardCell blackCell\">1</td><td class=\"boardCell whiteCell\"> </td><td class=\"boardCell whiteCell\"> </td><td class=\"boardCell whiteCell\"> </td><td class=\"boardCell bulbCell\">O</td><td class=\"boardCell blackCell\">3</td><td class=\"boardCell bulbCell\">O</td></tr><tr><td class=\"boardCell whiteCell\"> </td><td class=\"boardCell whiteCell\"> </td><td class=\"boardCell whiteCell\"> </td><td class=\"boardCell whiteCell\"> </td><td class=\"boardCell whiteCell\"> </td><td class=\"boardCell whiteCell\"> </td><td class=\"boardCell bulbCell\">O</td><td class=\"boardCell blackCell\">2</td><td class=\"boardCell whiteCell\"> </td><td class=\"boardCell blackCell\">2</td></tr><tr><td class=\"boardCell whiteCell\"> </td><td class=\"boardCell whiteCell\"> </td><td class=\"boardCell whiteCell\"> </td><td class=\"boardCell whiteCell\"> </td><td class=\"boardCell whiteCell\"> </td><td class=\"boardCell whiteCell\"> </td><td class=\"boardCell whiteCell\"> </td><td class=\"boardCell whiteCell\"> </td><td class=\"boardCell whiteCell\"> </td><td class=\"boardCell bulbCell\">O</td></tr><tr><td class=\"boardCell whiteCell\"> </td><td class=\"boardCell whiteCell\"> </td><td class=\"boardCell whiteCell\"> </td><td class=\"boardCell whiteCell\"> </td><td class=\"boardCell whiteCell\"> </td><td class=\"boardCell whiteCell\"> </td><td class=\"boardCell whiteCell\"> </td><td class=\"boardCell bulbCell\">O</td><td class=\"boardCell whiteCell\"> </td><td class=\"boardCell whiteCell\"> </td></tr><tr><td class=\"boardCell blackCell\">2</td><td class=\"boardCell bulbCell\">O</td><td class=\"boardCell blackCell\">X</td><td class=\"boardCell whiteCell\"> </td><td class=\"boardCell whiteCell\"> </td><td class=\"boardCell whiteCell\"> </td><td class=\"boardCell whiteCell\"> </td><td class=\"boardCell whiteCell\"> </td><td class=\"boardCell bulbCell\">O</td><td class=\"boardCell whiteCell\"> </td></tr><tr><td class=\"boardCell bulbCell\">O</td><td class=\"boardCell blackCell\">3</td><td class=\"boardCell whiteCell\"> </td><td class=\"boardCell bulbCell\">O</td><td class=\"boardCell whiteCell\"> </td><td class=\"boardCell whiteCell\"> </td><td class=\"boardCell blackCell\">X</td><td class=\"boardCell whiteCell\"> </td><td class=\"boardCell blackCell\">2</td><td class=\"boardCell whiteCell\"> </td></tr><tr><td class=\"boardCell blackCell\">X</td><td class=\"boardCell bulbCell\">O</td><td class=\"boardCell blackCell\">X</td><td class=\"boardCell whiteCell\"> </td><td class=\"boardCell whiteCell\"> </td><td class=\"boardCell whiteCell\"> </td><td class=\"boardCell bulbCell\">O</td><td class=\"boardCell blackCell\">3</td><td class=\"boardCell bulbCell\">O</td><td class=\"boardCell whiteCell\"> </td></tr><tr><td class=\"boardCell whiteCell\"> </td><td class=\"boardCell whiteCell\"> </td><td class=\"boardCell whiteCell\"> </td><td class=\"boardCell whiteCell\"> </td><td class=\"boardCell whiteCell\"> </td><td class=\"boardCell bulbCell\">O</td><td class=\"boardCell blackCell\">3</td><td class=\"boardCell bulbCell\">O</td><td class=\"boardCell blackCell\">X</td><td class=\"boardCell whiteCell\"> </td></tr></table></tr></table>"
            ],
            "text/plain": [
              "<IPython.core.display.HTML object>"
            ]
          },
          "metadata": {
            "tags": []
          }
        }
      ]
    },
    {
      "metadata": {
        "id": "tweWQQRe4hY2",
        "colab_type": "code",
        "colab": {
          "base_uri": "https://localhost:8080/",
          "height": 451
        },
        "outputId": "e76a1bb2-05b6-4d82-b2d3-e54acd389455"
      },
      "cell_type": "code",
      "source": [
        "# HARD BOARDS\n",
        "\n",
        "board_7 = [['X','1','_','X','_','_','_','_','X','1','_','_','_','1'],['_','_','X','_','_','X','_','2','_','_','_','_','_','X'],['_','_','_','_','_','_','_','_','_','_','_','_','X','_'],['_','_','_','_','_','_','_','_','1','0','_','_','_','X'],['0','_','_','X','_','_','3','_','_','_','_','_','_','_'],['0','_','_','X','_','_','_','X','_','_','_','_','1','_'],['_','1','_','_','_','X','_','_','_','1','_','_','_','_'],['_','_','_','_','2','_','_','_','2','_','_','_','0','_'],['_','2','_','_','_','_','0','_','_','_','1','_','_','X'],['_','_','_','_','_','_','_','1','_','_','X','_','_','1'],['1','_','_','_','X','X','_','_','_','_','_','_','_','_'],['_','3','_','_','_','_','_','_','_','_','_','_','_','_'],['X','_','_','_','_','_','1','_','2','_','_','X','_','_'],['X','_','_','_','X','X','_','_','_','_','X','_','2','X'],]\n",
        "board_8 = [['_','_','1','_','_','_','_'],['_','_','_','_','2','_','_'],['_','3','_','_','_','_','0'],['_','_','_','_','_','_','_'],['1','_','_','_','_','3','_'],['_','_','X','_','_','_','_'],['_','_','_','_','0','_','_'],]\n",
        "runModel(board_7)"
      ],
      "execution_count": 29,
      "outputs": [
        {
          "output_type": "stream",
          "text": [
            "Status: [2]\n"
          ],
          "name": "stdout"
        },
        {
          "output_type": "display_data",
          "data": {
            "text/html": [
              "<style>  table {border-collapse:collapse;} td, th{vertical-align:top important!; text-align:center !important; border:1px solid #ddd !important}.boardCell {text-align:center;width:25px;height:25px;font-size:8pt;vertical-align:middle;}.blackCell {background:#888; color:#eee;vertical-align:middle;}.whiteCell {background:#fff; color:#333;vertical-align:middle;}.bulbCell {background:#dd3; color:#dd3;vertical-align:middle;}.lumCell {background:#ffa; color:#ffa;vertical-align:middle;}</style>"
            ],
            "text/plain": [
              "<IPython.core.display.HTML object>"
            ]
          },
          "metadata": {
            "tags": []
          }
        },
        {
          "output_type": "display_data",
          "data": {
            "text/html": [
              "<table><tr><td><table ><th colspan=\"99\">Problem</td><tr><td class=\"boardCell blackCell\">X</td><td class=\"boardCell blackCell\">1</td><td class=\"boardCell whiteCell\"> </td><td class=\"boardCell blackCell\">X</td><td class=\"boardCell whiteCell\"> </td><td class=\"boardCell whiteCell\"> </td><td class=\"boardCell whiteCell\"> </td><td class=\"boardCell whiteCell\"> </td><td class=\"boardCell blackCell\">X</td><td class=\"boardCell blackCell\">1</td><td class=\"boardCell whiteCell\"> </td><td class=\"boardCell whiteCell\"> </td><td class=\"boardCell whiteCell\"> </td><td class=\"boardCell blackCell\">1</td></tr><tr><td class=\"boardCell whiteCell\"> </td><td class=\"boardCell whiteCell\"> </td><td class=\"boardCell blackCell\">X</td><td class=\"boardCell whiteCell\"> </td><td class=\"boardCell whiteCell\"> </td><td class=\"boardCell blackCell\">X</td><td class=\"boardCell whiteCell\"> </td><td class=\"boardCell blackCell\">2</td><td class=\"boardCell whiteCell\"> </td><td class=\"boardCell whiteCell\"> </td><td class=\"boardCell whiteCell\"> </td><td class=\"boardCell whiteCell\"> </td><td class=\"boardCell whiteCell\"> </td><td class=\"boardCell blackCell\">X</td></tr><tr><td class=\"boardCell whiteCell\"> </td><td class=\"boardCell whiteCell\"> </td><td class=\"boardCell whiteCell\"> </td><td class=\"boardCell whiteCell\"> </td><td class=\"boardCell whiteCell\"> </td><td class=\"boardCell whiteCell\"> </td><td class=\"boardCell whiteCell\"> </td><td class=\"boardCell whiteCell\"> </td><td class=\"boardCell whiteCell\"> </td><td class=\"boardCell whiteCell\"> </td><td class=\"boardCell whiteCell\"> </td><td class=\"boardCell whiteCell\"> </td><td class=\"boardCell blackCell\">X</td><td class=\"boardCell whiteCell\"> </td></tr><tr><td class=\"boardCell whiteCell\"> </td><td class=\"boardCell whiteCell\"> </td><td class=\"boardCell whiteCell\"> </td><td class=\"boardCell whiteCell\"> </td><td class=\"boardCell whiteCell\"> </td><td class=\"boardCell whiteCell\"> </td><td class=\"boardCell whiteCell\"> </td><td class=\"boardCell whiteCell\"> </td><td class=\"boardCell blackCell\">1</td><td class=\"boardCell blackCell\">0</td><td class=\"boardCell whiteCell\"> </td><td class=\"boardCell whiteCell\"> </td><td class=\"boardCell whiteCell\"> </td><td class=\"boardCell blackCell\">X</td></tr><tr><td class=\"boardCell blackCell\">0</td><td class=\"boardCell whiteCell\"> </td><td class=\"boardCell whiteCell\"> </td><td class=\"boardCell blackCell\">X</td><td class=\"boardCell whiteCell\"> </td><td class=\"boardCell whiteCell\"> </td><td class=\"boardCell blackCell\">3</td><td class=\"boardCell whiteCell\"> </td><td class=\"boardCell whiteCell\"> </td><td class=\"boardCell whiteCell\"> </td><td class=\"boardCell whiteCell\"> </td><td class=\"boardCell whiteCell\"> </td><td class=\"boardCell whiteCell\"> </td><td class=\"boardCell whiteCell\"> </td></tr><tr><td class=\"boardCell blackCell\">0</td><td class=\"boardCell whiteCell\"> </td><td class=\"boardCell whiteCell\"> </td><td class=\"boardCell blackCell\">X</td><td class=\"boardCell whiteCell\"> </td><td class=\"boardCell whiteCell\"> </td><td class=\"boardCell whiteCell\"> </td><td class=\"boardCell blackCell\">X</td><td class=\"boardCell whiteCell\"> </td><td class=\"boardCell whiteCell\"> </td><td class=\"boardCell whiteCell\"> </td><td class=\"boardCell whiteCell\"> </td><td class=\"boardCell blackCell\">1</td><td class=\"boardCell whiteCell\"> </td></tr><tr><td class=\"boardCell whiteCell\"> </td><td class=\"boardCell blackCell\">1</td><td class=\"boardCell whiteCell\"> </td><td class=\"boardCell whiteCell\"> </td><td class=\"boardCell whiteCell\"> </td><td class=\"boardCell blackCell\">X</td><td class=\"boardCell whiteCell\"> </td><td class=\"boardCell whiteCell\"> </td><td class=\"boardCell whiteCell\"> </td><td class=\"boardCell blackCell\">1</td><td class=\"boardCell whiteCell\"> </td><td class=\"boardCell whiteCell\"> </td><td class=\"boardCell whiteCell\"> </td><td class=\"boardCell whiteCell\"> </td></tr><tr><td class=\"boardCell whiteCell\"> </td><td class=\"boardCell whiteCell\"> </td><td class=\"boardCell whiteCell\"> </td><td class=\"boardCell whiteCell\"> </td><td class=\"boardCell blackCell\">2</td><td class=\"boardCell whiteCell\"> </td><td class=\"boardCell whiteCell\"> </td><td class=\"boardCell whiteCell\"> </td><td class=\"boardCell blackCell\">2</td><td class=\"boardCell whiteCell\"> </td><td class=\"boardCell whiteCell\"> </td><td class=\"boardCell whiteCell\"> </td><td class=\"boardCell blackCell\">0</td><td class=\"boardCell whiteCell\"> </td></tr><tr><td class=\"boardCell whiteCell\"> </td><td class=\"boardCell blackCell\">2</td><td class=\"boardCell whiteCell\"> </td><td class=\"boardCell whiteCell\"> </td><td class=\"boardCell whiteCell\"> </td><td class=\"boardCell whiteCell\"> </td><td class=\"boardCell blackCell\">0</td><td class=\"boardCell whiteCell\"> </td><td class=\"boardCell whiteCell\"> </td><td class=\"boardCell whiteCell\"> </td><td class=\"boardCell blackCell\">1</td><td class=\"boardCell whiteCell\"> </td><td class=\"boardCell whiteCell\"> </td><td class=\"boardCell blackCell\">X</td></tr><tr><td class=\"boardCell whiteCell\"> </td><td class=\"boardCell whiteCell\"> </td><td class=\"boardCell whiteCell\"> </td><td class=\"boardCell whiteCell\"> </td><td class=\"boardCell whiteCell\"> </td><td class=\"boardCell whiteCell\"> </td><td class=\"boardCell whiteCell\"> </td><td class=\"boardCell blackCell\">1</td><td class=\"boardCell whiteCell\"> </td><td class=\"boardCell whiteCell\"> </td><td class=\"boardCell blackCell\">X</td><td class=\"boardCell whiteCell\"> </td><td class=\"boardCell whiteCell\"> </td><td class=\"boardCell blackCell\">1</td></tr><tr><td class=\"boardCell blackCell\">1</td><td class=\"boardCell whiteCell\"> </td><td class=\"boardCell whiteCell\"> </td><td class=\"boardCell whiteCell\"> </td><td class=\"boardCell blackCell\">X</td><td class=\"boardCell blackCell\">X</td><td class=\"boardCell whiteCell\"> </td><td class=\"boardCell whiteCell\"> </td><td class=\"boardCell whiteCell\"> </td><td class=\"boardCell whiteCell\"> </td><td class=\"boardCell whiteCell\"> </td><td class=\"boardCell whiteCell\"> </td><td class=\"boardCell whiteCell\"> </td><td class=\"boardCell whiteCell\"> </td></tr><tr><td class=\"boardCell whiteCell\"> </td><td class=\"boardCell blackCell\">3</td><td class=\"boardCell whiteCell\"> </td><td class=\"boardCell whiteCell\"> </td><td class=\"boardCell whiteCell\"> </td><td class=\"boardCell whiteCell\"> </td><td class=\"boardCell whiteCell\"> </td><td class=\"boardCell whiteCell\"> </td><td class=\"boardCell whiteCell\"> </td><td class=\"boardCell whiteCell\"> </td><td class=\"boardCell whiteCell\"> </td><td class=\"boardCell whiteCell\"> </td><td class=\"boardCell whiteCell\"> </td><td class=\"boardCell whiteCell\"> </td></tr><tr><td class=\"boardCell blackCell\">X</td><td class=\"boardCell whiteCell\"> </td><td class=\"boardCell whiteCell\"> </td><td class=\"boardCell whiteCell\"> </td><td class=\"boardCell whiteCell\"> </td><td class=\"boardCell whiteCell\"> </td><td class=\"boardCell blackCell\">1</td><td class=\"boardCell whiteCell\"> </td><td class=\"boardCell blackCell\">2</td><td class=\"boardCell whiteCell\"> </td><td class=\"boardCell whiteCell\"> </td><td class=\"boardCell blackCell\">X</td><td class=\"boardCell whiteCell\"> </td><td class=\"boardCell whiteCell\"> </td></tr><tr><td class=\"boardCell blackCell\">X</td><td class=\"boardCell whiteCell\"> </td><td class=\"boardCell whiteCell\"> </td><td class=\"boardCell whiteCell\"> </td><td class=\"boardCell blackCell\">X</td><td class=\"boardCell blackCell\">X</td><td class=\"boardCell whiteCell\"> </td><td class=\"boardCell whiteCell\"> </td><td class=\"boardCell whiteCell\"> </td><td class=\"boardCell whiteCell\"> </td><td class=\"boardCell blackCell\">X</td><td class=\"boardCell whiteCell\"> </td><td class=\"boardCell blackCell\">2</td><td class=\"boardCell blackCell\">X</td></tr></table><td><table ><th colspan=\"99\">Solution #1</td><tr><td class=\"boardCell blackCell\">X</td><td class=\"boardCell blackCell\">1</td><td class=\"boardCell bulbCell\">O</td><td class=\"boardCell blackCell\">X</td><td class=\"boardCell whiteCell\"> </td><td class=\"boardCell whiteCell\"> </td><td class=\"boardCell whiteCell\"> </td><td class=\"boardCell bulbCell\">O</td><td class=\"boardCell blackCell\">X</td><td class=\"boardCell blackCell\">1</td><td class=\"boardCell whiteCell\"> </td><td class=\"boardCell whiteCell\"> </td><td class=\"boardCell bulbCell\">O</td><td class=\"boardCell blackCell\">1</td></tr><tr><td class=\"boardCell bulbCell\">O</td><td class=\"boardCell whiteCell\"> </td><td class=\"boardCell blackCell\">X</td><td class=\"boardCell bulbCell\">O</td><td class=\"boardCell whiteCell\"> </td><td class=\"boardCell blackCell\">X</td><td class=\"boardCell bulbCell\">O</td><td class=\"boardCell blackCell\">2</td><td class=\"boardCell whiteCell\"> </td><td class=\"boardCell bulbCell\">O</td><td class=\"boardCell whiteCell\"> </td><td class=\"boardCell whiteCell\"> </td><td class=\"boardCell whiteCell\"> </td><td class=\"boardCell blackCell\">X</td></tr><tr><td class=\"boardCell whiteCell\"> </td><td class=\"boardCell whiteCell\"> </td><td class=\"boardCell whiteCell\"> </td><td class=\"boardCell whiteCell\"> </td><td class=\"boardCell whiteCell\"> </td><td class=\"boardCell whiteCell\"> </td><td class=\"boardCell whiteCell\"> </td><td class=\"boardCell whiteCell\"> </td><td class=\"boardCell bulbCell\">O</td><td class=\"boardCell whiteCell\"> </td><td class=\"boardCell whiteCell\"> </td><td class=\"boardCell whiteCell\"> </td><td class=\"boardCell blackCell\">X</td><td class=\"boardCell bulbCell\">O</td></tr><tr><td class=\"boardCell whiteCell\"> </td><td class=\"boardCell bulbCell\">O</td><td class=\"boardCell whiteCell\"> </td><td class=\"boardCell whiteCell\"> </td><td class=\"boardCell whiteCell\"> </td><td class=\"boardCell whiteCell\"> </td><td class=\"boardCell whiteCell\"> </td><td class=\"boardCell whiteCell\"> </td><td class=\"boardCell blackCell\">1</td><td class=\"boardCell blackCell\">0</td><td class=\"boardCell whiteCell\"> </td><td class=\"boardCell whiteCell\"> </td><td class=\"boardCell bulbCell\">O</td><td class=\"boardCell blackCell\">X</td></tr><tr><td class=\"boardCell blackCell\">0</td><td class=\"boardCell whiteCell\"> </td><td class=\"boardCell whiteCell\"> </td><td class=\"boardCell blackCell\">X</td><td class=\"boardCell whiteCell\"> </td><td class=\"boardCell bulbCell\">O</td><td class=\"boardCell blackCell\">3</td><td class=\"boardCell bulbCell\">O</td><td class=\"boardCell whiteCell\"> </td><td class=\"boardCell whiteCell\"> </td><td class=\"boardCell whiteCell\"> </td><td class=\"boardCell whiteCell\"> </td><td class=\"boardCell whiteCell\"> </td><td class=\"boardCell whiteCell\"> </td></tr><tr><td class=\"boardCell blackCell\">0</td><td class=\"boardCell whiteCell\"> </td><td class=\"boardCell whiteCell\"> </td><td class=\"boardCell blackCell\">X</td><td class=\"boardCell whiteCell\"> </td><td class=\"boardCell whiteCell\"> </td><td class=\"boardCell bulbCell\">O</td><td class=\"boardCell blackCell\">X</td><td class=\"boardCell whiteCell\"> </td><td class=\"boardCell whiteCell\"> </td><td class=\"boardCell bulbCell\">O</td><td class=\"boardCell whiteCell\"> </td><td class=\"boardCell blackCell\">1</td><td class=\"boardCell bulbCell\">O</td></tr><tr><td class=\"boardCell whiteCell\"> </td><td class=\"boardCell blackCell\">1</td><td class=\"boardCell whiteCell\"> </td><td class=\"boardCell whiteCell\"> </td><td class=\"boardCell bulbCell\">O</td><td class=\"boardCell blackCell\">X</td><td class=\"boardCell whiteCell\"> </td><td class=\"boardCell whiteCell\"> </td><td class=\"boardCell bulbCell\">O</td><td class=\"boardCell blackCell\">1</td><td class=\"boardCell whiteCell\"> </td><td class=\"boardCell bulbCell\">O</td><td class=\"boardCell whiteCell\"> </td><td class=\"boardCell whiteCell\"> </td></tr><tr><td class=\"boardCell whiteCell\"> </td><td class=\"boardCell bulbCell\">O</td><td class=\"boardCell whiteCell\"> </td><td class=\"boardCell whiteCell\"> </td><td class=\"boardCell blackCell\">2</td><td class=\"boardCell whiteCell\"> </td><td class=\"boardCell whiteCell\"> </td><td class=\"boardCell bulbCell\">O</td><td class=\"boardCell blackCell\">2</td><td class=\"boardCell whiteCell\"> </td><td class=\"boardCell whiteCell\"> </td><td class=\"boardCell whiteCell\"> </td><td class=\"boardCell blackCell\">0</td><td class=\"boardCell whiteCell\"> </td></tr><tr><td class=\"boardCell bulbCell\">O</td><td class=\"boardCell blackCell\">2</td><td class=\"boardCell whiteCell\"> </td><td class=\"boardCell whiteCell\"> </td><td class=\"boardCell bulbCell\">O</td><td class=\"boardCell whiteCell\"> </td><td class=\"boardCell blackCell\">0</td><td class=\"boardCell whiteCell\"> </td><td class=\"boardCell whiteCell\"> </td><td class=\"boardCell bulbCell\">O</td><td class=\"boardCell blackCell\">1</td><td class=\"boardCell whiteCell\"> </td><td class=\"boardCell whiteCell\"> </td><td class=\"boardCell blackCell\">X</td></tr><tr><td class=\"boardCell whiteCell\"> </td><td class=\"boardCell whiteCell\"> </td><td class=\"boardCell whiteCell\"> </td><td class=\"boardCell whiteCell\"> </td><td class=\"boardCell whiteCell\"> </td><td class=\"boardCell bulbCell\">O</td><td class=\"boardCell whiteCell\"> </td><td class=\"boardCell blackCell\">1</td><td class=\"boardCell bulbCell\">O</td><td class=\"boardCell whiteCell\"> </td><td class=\"boardCell blackCell\">X</td><td class=\"boardCell whiteCell\"> </td><td class=\"boardCell whiteCell\"> </td><td class=\"boardCell blackCell\">1</td></tr><tr><td class=\"boardCell blackCell\">1</td><td class=\"boardCell whiteCell\"> </td><td class=\"boardCell whiteCell\"> </td><td class=\"boardCell bulbCell\">O</td><td class=\"boardCell blackCell\">X</td><td class=\"boardCell blackCell\">X</td><td class=\"boardCell whiteCell\"> </td><td class=\"boardCell whiteCell\"> </td><td class=\"boardCell whiteCell\"> </td><td class=\"boardCell whiteCell\"> </td><td class=\"boardCell whiteCell\"> </td><td class=\"boardCell whiteCell\"> </td><td class=\"boardCell whiteCell\"> </td><td class=\"boardCell bulbCell\">O</td></tr><tr><td class=\"boardCell bulbCell\">O</td><td class=\"boardCell blackCell\">3</td><td class=\"boardCell bulbCell\">O</td><td class=\"boardCell whiteCell\"> </td><td class=\"boardCell whiteCell\"> </td><td class=\"boardCell whiteCell\"> </td><td class=\"boardCell whiteCell\"> </td><td class=\"boardCell whiteCell\"> </td><td class=\"boardCell whiteCell\"> </td><td class=\"boardCell whiteCell\"> </td><td class=\"boardCell whiteCell\"> </td><td class=\"boardCell whiteCell\"> </td><td class=\"boardCell whiteCell\"> </td><td class=\"boardCell whiteCell\"> </td></tr><tr><td class=\"boardCell blackCell\">X</td><td class=\"boardCell bulbCell\">O</td><td class=\"boardCell whiteCell\"> </td><td class=\"boardCell whiteCell\"> </td><td class=\"boardCell whiteCell\"> </td><td class=\"boardCell whiteCell\"> </td><td class=\"boardCell blackCell\">1</td><td class=\"boardCell bulbCell\">O</td><td class=\"boardCell blackCell\">2</td><td class=\"boardCell whiteCell\"> </td><td class=\"boardCell bulbCell\">O</td><td class=\"boardCell blackCell\">X</td><td class=\"boardCell bulbCell\">O</td><td class=\"boardCell whiteCell\"> </td></tr><tr><td class=\"boardCell blackCell\">X</td><td class=\"boardCell whiteCell\"> </td><td class=\"boardCell whiteCell\"> </td><td class=\"boardCell whiteCell\"> </td><td class=\"boardCell blackCell\">X</td><td class=\"boardCell blackCell\">X</td><td class=\"boardCell whiteCell\"> </td><td class=\"boardCell whiteCell\"> </td><td class=\"boardCell bulbCell\">O</td><td class=\"boardCell whiteCell\"> </td><td class=\"boardCell blackCell\">X</td><td class=\"boardCell bulbCell\">O</td><td class=\"boardCell blackCell\">2</td><td class=\"boardCell blackCell\">X</td></tr></table></tr></table>"
            ],
            "text/plain": [
              "<IPython.core.display.HTML object>"
            ]
          },
          "metadata": {
            "tags": []
          }
        }
      ]
    }
  ]
}